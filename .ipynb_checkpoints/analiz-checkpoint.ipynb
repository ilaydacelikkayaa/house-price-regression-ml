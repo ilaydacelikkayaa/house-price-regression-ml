{
 "cells": [
  {
   "cell_type": "code",
   "execution_count": 70,
   "id": "d723ed49-9de2-4baa-bf3c-fd1658c495fb",
   "metadata": {},
   "outputs": [],
   "source": [
    "import pandas as pd"
   ]
  },
  {
   "cell_type": "code",
   "execution_count": 71,
   "id": "c4a57295-c4a6-485a-9994-f6ec01369c8b",
   "metadata": {},
   "outputs": [
    {
     "data": {
      "text/html": [
       "<div>\n",
       "<style scoped>\n",
       "    .dataframe tbody tr th:only-of-type {\n",
       "        vertical-align: middle;\n",
       "    }\n",
       "\n",
       "    .dataframe tbody tr th {\n",
       "        vertical-align: top;\n",
       "    }\n",
       "\n",
       "    .dataframe thead th {\n",
       "        text-align: right;\n",
       "    }\n",
       "</style>\n",
       "<table border=\"1\" class=\"dataframe\">\n",
       "  <thead>\n",
       "    <tr style=\"text-align: right;\">\n",
       "      <th></th>\n",
       "      <th>Order</th>\n",
       "      <th>PID</th>\n",
       "      <th>MS SubClass</th>\n",
       "      <th>MS Zoning</th>\n",
       "      <th>Lot Frontage</th>\n",
       "      <th>Lot Area</th>\n",
       "      <th>Street</th>\n",
       "      <th>Alley</th>\n",
       "      <th>Lot Shape</th>\n",
       "      <th>Land Contour</th>\n",
       "      <th>...</th>\n",
       "      <th>Pool Area</th>\n",
       "      <th>Pool QC</th>\n",
       "      <th>Fence</th>\n",
       "      <th>Misc Feature</th>\n",
       "      <th>Misc Val</th>\n",
       "      <th>Mo Sold</th>\n",
       "      <th>Yr Sold</th>\n",
       "      <th>Sale Type</th>\n",
       "      <th>Sale Condition</th>\n",
       "      <th>SalePrice</th>\n",
       "    </tr>\n",
       "  </thead>\n",
       "  <tbody>\n",
       "    <tr>\n",
       "      <th>0</th>\n",
       "      <td>1</td>\n",
       "      <td>526301100</td>\n",
       "      <td>20</td>\n",
       "      <td>RL</td>\n",
       "      <td>141.0</td>\n",
       "      <td>31770</td>\n",
       "      <td>Pave</td>\n",
       "      <td>NaN</td>\n",
       "      <td>IR1</td>\n",
       "      <td>Lvl</td>\n",
       "      <td>...</td>\n",
       "      <td>0</td>\n",
       "      <td>NaN</td>\n",
       "      <td>NaN</td>\n",
       "      <td>NaN</td>\n",
       "      <td>0</td>\n",
       "      <td>5</td>\n",
       "      <td>2010</td>\n",
       "      <td>WD</td>\n",
       "      <td>Normal</td>\n",
       "      <td>215000</td>\n",
       "    </tr>\n",
       "    <tr>\n",
       "      <th>1</th>\n",
       "      <td>2</td>\n",
       "      <td>526350040</td>\n",
       "      <td>20</td>\n",
       "      <td>RH</td>\n",
       "      <td>80.0</td>\n",
       "      <td>11622</td>\n",
       "      <td>Pave</td>\n",
       "      <td>NaN</td>\n",
       "      <td>Reg</td>\n",
       "      <td>Lvl</td>\n",
       "      <td>...</td>\n",
       "      <td>0</td>\n",
       "      <td>NaN</td>\n",
       "      <td>MnPrv</td>\n",
       "      <td>NaN</td>\n",
       "      <td>0</td>\n",
       "      <td>6</td>\n",
       "      <td>2010</td>\n",
       "      <td>WD</td>\n",
       "      <td>Normal</td>\n",
       "      <td>105000</td>\n",
       "    </tr>\n",
       "    <tr>\n",
       "      <th>2</th>\n",
       "      <td>3</td>\n",
       "      <td>526351010</td>\n",
       "      <td>20</td>\n",
       "      <td>RL</td>\n",
       "      <td>81.0</td>\n",
       "      <td>14267</td>\n",
       "      <td>Pave</td>\n",
       "      <td>NaN</td>\n",
       "      <td>IR1</td>\n",
       "      <td>Lvl</td>\n",
       "      <td>...</td>\n",
       "      <td>0</td>\n",
       "      <td>NaN</td>\n",
       "      <td>NaN</td>\n",
       "      <td>Gar2</td>\n",
       "      <td>12500</td>\n",
       "      <td>6</td>\n",
       "      <td>2010</td>\n",
       "      <td>WD</td>\n",
       "      <td>Normal</td>\n",
       "      <td>172000</td>\n",
       "    </tr>\n",
       "    <tr>\n",
       "      <th>3</th>\n",
       "      <td>4</td>\n",
       "      <td>526353030</td>\n",
       "      <td>20</td>\n",
       "      <td>RL</td>\n",
       "      <td>93.0</td>\n",
       "      <td>11160</td>\n",
       "      <td>Pave</td>\n",
       "      <td>NaN</td>\n",
       "      <td>Reg</td>\n",
       "      <td>Lvl</td>\n",
       "      <td>...</td>\n",
       "      <td>0</td>\n",
       "      <td>NaN</td>\n",
       "      <td>NaN</td>\n",
       "      <td>NaN</td>\n",
       "      <td>0</td>\n",
       "      <td>4</td>\n",
       "      <td>2010</td>\n",
       "      <td>WD</td>\n",
       "      <td>Normal</td>\n",
       "      <td>244000</td>\n",
       "    </tr>\n",
       "    <tr>\n",
       "      <th>4</th>\n",
       "      <td>5</td>\n",
       "      <td>527105010</td>\n",
       "      <td>60</td>\n",
       "      <td>RL</td>\n",
       "      <td>74.0</td>\n",
       "      <td>13830</td>\n",
       "      <td>Pave</td>\n",
       "      <td>NaN</td>\n",
       "      <td>IR1</td>\n",
       "      <td>Lvl</td>\n",
       "      <td>...</td>\n",
       "      <td>0</td>\n",
       "      <td>NaN</td>\n",
       "      <td>MnPrv</td>\n",
       "      <td>NaN</td>\n",
       "      <td>0</td>\n",
       "      <td>3</td>\n",
       "      <td>2010</td>\n",
       "      <td>WD</td>\n",
       "      <td>Normal</td>\n",
       "      <td>189900</td>\n",
       "    </tr>\n",
       "  </tbody>\n",
       "</table>\n",
       "<p>5 rows × 82 columns</p>\n",
       "</div>"
      ],
      "text/plain": [
       "   Order        PID  MS SubClass MS Zoning  Lot Frontage  Lot Area Street  \\\n",
       "0      1  526301100           20        RL         141.0     31770   Pave   \n",
       "1      2  526350040           20        RH          80.0     11622   Pave   \n",
       "2      3  526351010           20        RL          81.0     14267   Pave   \n",
       "3      4  526353030           20        RL          93.0     11160   Pave   \n",
       "4      5  527105010           60        RL          74.0     13830   Pave   \n",
       "\n",
       "  Alley Lot Shape Land Contour  ... Pool Area Pool QC  Fence Misc Feature  \\\n",
       "0   NaN       IR1          Lvl  ...         0     NaN    NaN          NaN   \n",
       "1   NaN       Reg          Lvl  ...         0     NaN  MnPrv          NaN   \n",
       "2   NaN       IR1          Lvl  ...         0     NaN    NaN         Gar2   \n",
       "3   NaN       Reg          Lvl  ...         0     NaN    NaN          NaN   \n",
       "4   NaN       IR1          Lvl  ...         0     NaN  MnPrv          NaN   \n",
       "\n",
       "  Misc Val Mo Sold Yr Sold Sale Type  Sale Condition  SalePrice  \n",
       "0        0       5    2010       WD           Normal     215000  \n",
       "1        0       6    2010       WD           Normal     105000  \n",
       "2    12500       6    2010       WD           Normal     172000  \n",
       "3        0       4    2010       WD           Normal     244000  \n",
       "4        0       3    2010       WD           Normal     189900  \n",
       "\n",
       "[5 rows x 82 columns]"
      ]
     },
     "execution_count": 71,
     "metadata": {},
     "output_type": "execute_result"
    }
   ],
   "source": [
    "df=pd.read_csv('AmesHousing.csv')\n",
    "df.head()"
   ]
  },
  {
   "cell_type": "code",
   "execution_count": 72,
   "id": "b18555aa-5862-498f-b2c3-9941c8e0f125",
   "metadata": {},
   "outputs": [
    {
     "name": "stdout",
     "output_type": "stream",
     "text": [
      "<class 'pandas.core.frame.DataFrame'>\n",
      "RangeIndex: 2930 entries, 0 to 2929\n",
      "Data columns (total 82 columns):\n",
      " #   Column           Non-Null Count  Dtype  \n",
      "---  ------           --------------  -----  \n",
      " 0   Order            2930 non-null   int64  \n",
      " 1   PID              2930 non-null   int64  \n",
      " 2   MS SubClass      2930 non-null   int64  \n",
      " 3   MS Zoning        2930 non-null   object \n",
      " 4   Lot Frontage     2440 non-null   float64\n",
      " 5   Lot Area         2930 non-null   int64  \n",
      " 6   Street           2930 non-null   object \n",
      " 7   Alley            198 non-null    object \n",
      " 8   Lot Shape        2930 non-null   object \n",
      " 9   Land Contour     2930 non-null   object \n",
      " 10  Utilities        2930 non-null   object \n",
      " 11  Lot Config       2930 non-null   object \n",
      " 12  Land Slope       2930 non-null   object \n",
      " 13  Neighborhood     2930 non-null   object \n",
      " 14  Condition 1      2930 non-null   object \n",
      " 15  Condition 2      2930 non-null   object \n",
      " 16  Bldg Type        2930 non-null   object \n",
      " 17  House Style      2930 non-null   object \n",
      " 18  Overall Qual     2930 non-null   int64  \n",
      " 19  Overall Cond     2930 non-null   int64  \n",
      " 20  Year Built       2930 non-null   int64  \n",
      " 21  Year Remod/Add   2930 non-null   int64  \n",
      " 22  Roof Style       2930 non-null   object \n",
      " 23  Roof Matl        2930 non-null   object \n",
      " 24  Exterior 1st     2930 non-null   object \n",
      " 25  Exterior 2nd     2930 non-null   object \n",
      " 26  Mas Vnr Type     1155 non-null   object \n",
      " 27  Mas Vnr Area     2907 non-null   float64\n",
      " 28  Exter Qual       2930 non-null   object \n",
      " 29  Exter Cond       2930 non-null   object \n",
      " 30  Foundation       2930 non-null   object \n",
      " 31  Bsmt Qual        2850 non-null   object \n",
      " 32  Bsmt Cond        2850 non-null   object \n",
      " 33  Bsmt Exposure    2847 non-null   object \n",
      " 34  BsmtFin Type 1   2850 non-null   object \n",
      " 35  BsmtFin SF 1     2929 non-null   float64\n",
      " 36  BsmtFin Type 2   2849 non-null   object \n",
      " 37  BsmtFin SF 2     2929 non-null   float64\n",
      " 38  Bsmt Unf SF      2929 non-null   float64\n",
      " 39  Total Bsmt SF    2929 non-null   float64\n",
      " 40  Heating          2930 non-null   object \n",
      " 41  Heating QC       2930 non-null   object \n",
      " 42  Central Air      2930 non-null   object \n",
      " 43  Electrical       2929 non-null   object \n",
      " 44  1st Flr SF       2930 non-null   int64  \n",
      " 45  2nd Flr SF       2930 non-null   int64  \n",
      " 46  Low Qual Fin SF  2930 non-null   int64  \n",
      " 47  Gr Liv Area      2930 non-null   int64  \n",
      " 48  Bsmt Full Bath   2928 non-null   float64\n",
      " 49  Bsmt Half Bath   2928 non-null   float64\n",
      " 50  Full Bath        2930 non-null   int64  \n",
      " 51  Half Bath        2930 non-null   int64  \n",
      " 52  Bedroom AbvGr    2930 non-null   int64  \n",
      " 53  Kitchen AbvGr    2930 non-null   int64  \n",
      " 54  Kitchen Qual     2930 non-null   object \n",
      " 55  TotRms AbvGrd    2930 non-null   int64  \n",
      " 56  Functional       2930 non-null   object \n",
      " 57  Fireplaces       2930 non-null   int64  \n",
      " 58  Fireplace Qu     1508 non-null   object \n",
      " 59  Garage Type      2773 non-null   object \n",
      " 60  Garage Yr Blt    2771 non-null   float64\n",
      " 61  Garage Finish    2771 non-null   object \n",
      " 62  Garage Cars      2929 non-null   float64\n",
      " 63  Garage Area      2929 non-null   float64\n",
      " 64  Garage Qual      2771 non-null   object \n",
      " 65  Garage Cond      2771 non-null   object \n",
      " 66  Paved Drive      2930 non-null   object \n",
      " 67  Wood Deck SF     2930 non-null   int64  \n",
      " 68  Open Porch SF    2930 non-null   int64  \n",
      " 69  Enclosed Porch   2930 non-null   int64  \n",
      " 70  3Ssn Porch       2930 non-null   int64  \n",
      " 71  Screen Porch     2930 non-null   int64  \n",
      " 72  Pool Area        2930 non-null   int64  \n",
      " 73  Pool QC          13 non-null     object \n",
      " 74  Fence            572 non-null    object \n",
      " 75  Misc Feature     106 non-null    object \n",
      " 76  Misc Val         2930 non-null   int64  \n",
      " 77  Mo Sold          2930 non-null   int64  \n",
      " 78  Yr Sold          2930 non-null   int64  \n",
      " 79  Sale Type        2930 non-null   object \n",
      " 80  Sale Condition   2930 non-null   object \n",
      " 81  SalePrice        2930 non-null   int64  \n",
      "dtypes: float64(11), int64(28), object(43)\n",
      "memory usage: 1.8+ MB\n"
     ]
    }
   ],
   "source": [
    "df.info()"
   ]
  },
  {
   "cell_type": "code",
   "execution_count": 73,
   "id": "55034236-39c0-4892-bf4a-703641dcbf6e",
   "metadata": {},
   "outputs": [
    {
     "data": {
      "text/plain": [
       "Pool QC           2917\n",
       "Misc Feature      2824\n",
       "Alley             2732\n",
       "Fence             2358\n",
       "Mas Vnr Type      1775\n",
       "Fireplace Qu      1422\n",
       "Lot Frontage       490\n",
       "Garage Cond        159\n",
       "Garage Qual        159\n",
       "Garage Finish      159\n",
       "Garage Yr Blt      159\n",
       "Garage Type        157\n",
       "Bsmt Exposure       83\n",
       "BsmtFin Type 2      81\n",
       "Bsmt Cond           80\n",
       "Bsmt Qual           80\n",
       "BsmtFin Type 1      80\n",
       "Mas Vnr Area        23\n",
       "Bsmt Half Bath       2\n",
       "Bsmt Full Bath       2\n",
       "BsmtFin SF 1         1\n",
       "Garage Cars          1\n",
       "Garage Area          1\n",
       "Total Bsmt SF        1\n",
       "Bsmt Unf SF          1\n",
       "BsmtFin SF 2         1\n",
       "Electrical           1\n",
       "dtype: int64"
      ]
     },
     "execution_count": 73,
     "metadata": {},
     "output_type": "execute_result"
    }
   ],
   "source": [
    "df.isnull().sum()[df.isnull().sum()>0].sort_values(ascending=False)"
   ]
  },
  {
   "cell_type": "code",
   "execution_count": 74,
   "id": "ec64e8fa-1198-42b7-90ab-6e97fa957e70",
   "metadata": {},
   "outputs": [
    {
     "name": "stdout",
     "output_type": "stream",
     "text": [
      "<class 'pandas.core.frame.DataFrame'>\n",
      "RangeIndex: 2930 entries, 0 to 2929\n",
      "Data columns (total 39 columns):\n",
      " #   Column           Non-Null Count  Dtype  \n",
      "---  ------           --------------  -----  \n",
      " 0   Order            2930 non-null   int64  \n",
      " 1   PID              2930 non-null   int64  \n",
      " 2   MS SubClass      2930 non-null   int64  \n",
      " 3   Lot Frontage     2440 non-null   float64\n",
      " 4   Lot Area         2930 non-null   int64  \n",
      " 5   Overall Qual     2930 non-null   int64  \n",
      " 6   Overall Cond     2930 non-null   int64  \n",
      " 7   Year Built       2930 non-null   int64  \n",
      " 8   Year Remod/Add   2930 non-null   int64  \n",
      " 9   Mas Vnr Area     2907 non-null   float64\n",
      " 10  BsmtFin SF 1     2929 non-null   float64\n",
      " 11  BsmtFin SF 2     2929 non-null   float64\n",
      " 12  Bsmt Unf SF      2929 non-null   float64\n",
      " 13  Total Bsmt SF    2929 non-null   float64\n",
      " 14  1st Flr SF       2930 non-null   int64  \n",
      " 15  2nd Flr SF       2930 non-null   int64  \n",
      " 16  Low Qual Fin SF  2930 non-null   int64  \n",
      " 17  Gr Liv Area      2930 non-null   int64  \n",
      " 18  Bsmt Full Bath   2928 non-null   float64\n",
      " 19  Bsmt Half Bath   2928 non-null   float64\n",
      " 20  Full Bath        2930 non-null   int64  \n",
      " 21  Half Bath        2930 non-null   int64  \n",
      " 22  Bedroom AbvGr    2930 non-null   int64  \n",
      " 23  Kitchen AbvGr    2930 non-null   int64  \n",
      " 24  TotRms AbvGrd    2930 non-null   int64  \n",
      " 25  Fireplaces       2930 non-null   int64  \n",
      " 26  Garage Yr Blt    2771 non-null   float64\n",
      " 27  Garage Cars      2929 non-null   float64\n",
      " 28  Garage Area      2929 non-null   float64\n",
      " 29  Wood Deck SF     2930 non-null   int64  \n",
      " 30  Open Porch SF    2930 non-null   int64  \n",
      " 31  Enclosed Porch   2930 non-null   int64  \n",
      " 32  3Ssn Porch       2930 non-null   int64  \n",
      " 33  Screen Porch     2930 non-null   int64  \n",
      " 34  Pool Area        2930 non-null   int64  \n",
      " 35  Misc Val         2930 non-null   int64  \n",
      " 36  Mo Sold          2930 non-null   int64  \n",
      " 37  Yr Sold          2930 non-null   int64  \n",
      " 38  SalePrice        2930 non-null   int64  \n",
      "dtypes: float64(11), int64(28)\n",
      "memory usage: 892.9 KB\n"
     ]
    }
   ],
   "source": [
    "numerical_cols=df.select_dtypes(include=['float64','int64'])\n",
    "numerical_cols.info()"
   ]
  },
  {
   "cell_type": "code",
   "execution_count": 75,
   "id": "77e17c75-9f1e-4faf-be3b-65b18fabd44c",
   "metadata": {},
   "outputs": [
    {
     "data": {
      "text/plain": [
       "Index(['MS Zoning', 'Street', 'Alley', 'Lot Shape', 'Land Contour',\n",
       "       'Utilities', 'Lot Config', 'Land Slope', 'Neighborhood', 'Condition 1',\n",
       "       'Condition 2', 'Bldg Type', 'House Style', 'Roof Style', 'Roof Matl',\n",
       "       'Exterior 1st', 'Exterior 2nd', 'Mas Vnr Type', 'Exter Qual',\n",
       "       'Exter Cond', 'Foundation', 'Bsmt Qual', 'Bsmt Cond', 'Bsmt Exposure',\n",
       "       'BsmtFin Type 1', 'BsmtFin Type 2', 'Heating', 'Heating QC',\n",
       "       'Central Air', 'Electrical', 'Kitchen Qual', 'Functional',\n",
       "       'Fireplace Qu', 'Garage Type', 'Garage Finish', 'Garage Qual',\n",
       "       'Garage Cond', 'Paved Drive', 'Pool QC', 'Fence', 'Misc Feature',\n",
       "       'Sale Type', 'Sale Condition'],\n",
       "      dtype='object')"
      ]
     },
     "execution_count": 75,
     "metadata": {},
     "output_type": "execute_result"
    }
   ],
   "source": [
    "categorical_cols=df.select_dtypes(include=['object']).columns\n",
    "categorical_cols"
   ]
  },
  {
   "cell_type": "code",
   "execution_count": 76,
   "id": "864aea73-16d5-4df8-814c-2cd928f9ea9d",
   "metadata": {},
   "outputs": [
    {
     "data": {
      "text/plain": [
       "Pool QC           2917\n",
       "Misc Feature      2824\n",
       "Alley             2732\n",
       "Fence             2358\n",
       "Mas Vnr Type      1775\n",
       "Fireplace Qu      1422\n",
       "Garage Finish      159\n",
       "Garage Qual        159\n",
       "Garage Cond        159\n",
       "Garage Type        157\n",
       "Bsmt Exposure       83\n",
       "BsmtFin Type 2      81\n",
       "Bsmt Qual           80\n",
       "Bsmt Cond           80\n",
       "BsmtFin Type 1      80\n",
       "Electrical           1\n",
       "dtype: int64"
      ]
     },
     "execution_count": 76,
     "metadata": {},
     "output_type": "execute_result"
    }
   ],
   "source": [
    "df[categorical_cols].isnull().sum()[df[categorical_cols].isnull().sum()>0].sort_values(ascending=False)"
   ]
  },
  {
   "cell_type": "code",
   "execution_count": 77,
   "id": "2f0e2c7b-e80d-48ba-911c-fdeffaf519d8",
   "metadata": {},
   "outputs": [],
   "source": [
    "for col in categorical_cols:\n",
    "    df[col]=df[col].fillna('None')\n"
   ]
  },
  {
   "cell_type": "code",
   "execution_count": 78,
   "id": "06506747-5032-42a6-84ed-9bfcda77248e",
   "metadata": {},
   "outputs": [
    {
     "data": {
      "image/png": "[encoded data removed]",
      "text/plain": [
       "<Figure size 640x480 with 1 Axes>"
      ]
     },
     "metadata": {},
     "output_type": "display_data"
    }
   ],
   "source": [
    "import seaborn as sns\n",
    "import matplotlib.pyplot as plt\n",
    "\n",
    "sns.heatmap(df.isnull(), cbar=False, cmap=\"YlGnBu\")\n",
    "plt.title(\"Eksik Veri Haritası\")\n",
    "plt.show()\n"
   ]
  },
  {
   "cell_type": "code",
   "execution_count": 79,
   "id": "9f623f79-6ae9-40e1-bd92-10a92089cee6",
   "metadata": {},
   "outputs": [
    {
     "name": "stdout",
     "output_type": "stream",
     "text": [
      " duplicated rows:  0\n"
     ]
    }
   ],
   "source": [
    "print(\" duplicated rows: \", df.duplicated().sum())\n"
   ]
  },
  {
   "cell_type": "code",
   "execution_count": 80,
   "id": "2d2ccadb-4936-48be-9129-9cc3c48111cb",
   "metadata": {},
   "outputs": [],
   "source": [
    "def missing_columns(data):\n",
    "    missing = data.isnull().sum()\n",
    "    missing = missing[missing > 0]\n",
    "    missing = (missing / len(data)) * 100\n",
    "    return missing.sort_values(ascending=False)\n",
    "\n",
    "nan_percent = missing_columns(df)\n"
   ]
  },
  {
   "cell_type": "code",
   "execution_count": 81,
   "id": "db5909a6-5485-4128-baf4-05c4a20be71b",
   "metadata": {},
   "outputs": [],
   "source": [
    "colors = [\"#E0FFFF\", \"#D1EEFC\", \"#B0E0E6\", \"#ADD8E6\", \"#87CEEB\"]\n"
   ]
  },
  {
   "cell_type": "code",
   "execution_count": 82,
   "id": "27e0d4ea-5402-426a-b78a-1b7b72c8e525",
   "metadata": {},
   "outputs": [
    {
     "name": "stderr",
     "output_type": "stream",
     "text": [
      "C:\\Users\\Lenovo\\AppData\\Local\\Temp\\ipykernel_19284\\1562875745.py:2: FutureWarning: \n",
      "\n",
      "Passing `palette` without assigning `hue` is deprecated and will be removed in v0.14.0. Assign the `x` variable to `hue` and set `legend=False` for the same effect.\n",
      "\n",
      "  sns.barplot(x=nan_percent.index, y=nan_percent.values, palette=colors)\n",
      "C:\\Users\\Lenovo\\AppData\\Local\\Temp\\ipykernel_19284\\1562875745.py:2: UserWarning: \n",
      "The palette list has fewer values (5) than needed (11) and will cycle, which may produce an uninterpretable plot.\n",
      "  sns.barplot(x=nan_percent.index, y=nan_percent.values, palette=colors)\n"
     ]
    },
    {
     "data": {
      "image/png": "[encoded data removed]",
      "text/plain": [
       "<Figure size 1200x600 with 1 Axes>"
      ]
     },
     "metadata": {},
     "output_type": "display_data"
    }
   ],
   "source": [
    "plt.figure(figsize=(12,6))\n",
    "sns.barplot(x=nan_percent.index, y=nan_percent.values, palette=colors)\n",
    "plt.xticks(rotation=90)\n",
    "plt.title(\"Eksik Veri Yüzdeleri (Temizlemeden Önce)\")\n",
    "plt.show()"
   ]
  },
  {
   "cell_type": "code",
   "execution_count": 83,
   "id": "c2c01809-0b94-4138-bfb3-b0563fed8b30",
   "metadata": {},
   "outputs": [
    {
     "name": "stdout",
     "output_type": "stream",
     "text": [
      "Önce Eksik Değer Sayısı: 682\n",
      "Sonra Eksik Değer Sayısı: 682\n"
     ]
    }
   ],
   "source": [
    "# 🔢 Temizleme işlemi\n",
    "print(f'Önce Eksik Değer Sayısı: {df.isnull().sum().sum()}')\n",
    "df = df.dropna(axis=1, thresh=0.5 * len(df))  # sütunları temizle\n",
    "print(f'Sonra Eksik Değer Sayısı: {df.isnull().sum().sum()}')"
   ]
  },
  {
   "cell_type": "code",
   "execution_count": 84,
   "id": "2676579b-7177-4353-bfca-676547fe2cd3",
   "metadata": {},
   "outputs": [
    {
     "name": "stdout",
     "output_type": "stream",
     "text": [
      "Lot Frontage      16.723549\n",
      "Garage Yr Blt      5.426621\n",
      "Mas Vnr Area       0.784983\n",
      "Bsmt Full Bath     0.068259\n",
      "Bsmt Half Bath     0.068259\n",
      "BsmtFin SF 1       0.034130\n",
      "BsmtFin SF 2       0.034130\n",
      "Bsmt Unf SF        0.034130\n",
      "Total Bsmt SF      0.034130\n",
      "Garage Cars        0.034130\n",
      "Garage Area        0.034130\n",
      "dtype: float64\n"
     ]
    }
   ],
   "source": [
    "missing = missing_columns(df)\n",
    "print(missing)"
   ]
  },
  {
   "cell_type": "code",
   "execution_count": 87,
   "id": "fe6c5250-02f3-4c16-b1de-b80afec56b83",
   "metadata": {},
   "outputs": [],
   "source": [
    "df['Lot Frontage'] = df['Lot Frontage'].fillna(df['Lot Frontage'].median())\n"
   ]
  },
  {
   "cell_type": "code",
   "execution_count": 88,
   "id": "8190e705-f366-47c6-8607-87450659264a",
   "metadata": {},
   "outputs": [
    {
     "data": {
      "text/plain": [
       "0       141.0\n",
       "1        80.0\n",
       "2        81.0\n",
       "3        93.0\n",
       "4        74.0\n",
       "        ...  \n",
       "2925     37.0\n",
       "2926     68.0\n",
       "2927     62.0\n",
       "2928     77.0\n",
       "2929     74.0\n",
       "Name: Lot Frontage, Length: 2930, dtype: float64"
      ]
     },
     "execution_count": 88,
     "metadata": {},
     "output_type": "execute_result"
    }
   ],
   "source": [
    "df['Lot Frontage']"
   ]
  },
  {
   "cell_type": "code",
   "execution_count": 91,
   "id": "897f0a1e-9c3e-4b01-94f0-cd955566b0d5",
   "metadata": {},
   "outputs": [
    {
     "name": "stdout",
     "output_type": "stream",
     "text": [
      "Eksik Değer Sayısı: 192\n"
     ]
    }
   ],
   "source": [
    "print( f'Eksik Değer Sayısı: {df.isnull().sum().sum()}')"
   ]
  },
  {
   "cell_type": "code",
   "execution_count": 94,
   "id": "2ceac204-e0ff-4679-a251-2384bd02d7b1",
   "metadata": {},
   "outputs": [],
   "source": [
    "numeric_cols = df.select_dtypes(include=['number']).columns\n",
    "df[numeric_cols] = df[numeric_cols].fillna(df[numeric_cols].mean())\n"
   ]
  },
  {
   "cell_type": "code",
   "execution_count": 96,
   "id": "13a0d976-2690-4df6-94bb-d075e16c2190",
   "metadata": {},
   "outputs": [
    {
     "name": "stdout",
     "output_type": "stream",
     "text": [
      "Eksik Değer Sayısı: 0\n"
     ]
    }
   ],
   "source": [
    "print( f'Eksik Değer Sayısı: {df.isnull().sum().sum()}')"
   ]
  },
  {
   "cell_type": "code",
   "execution_count": 97,
   "id": "eb22ec50-9179-491c-b840-809439241145",
   "metadata": {},
   "outputs": [],
   "source": [
    "df = pd.get_dummies(df, columns=categorical_cols, drop_first=True)"
   ]
  },
  {
   "cell_type": "code",
   "execution_count": 99,
   "id": "a0a9db33-360c-4b12-b65f-0be464446ea5",
   "metadata": {},
   "outputs": [
    {
     "name": "stdout",
     "output_type": "stream",
     "text": [
      "<class 'pandas.core.frame.DataFrame'>\n",
      "RangeIndex: 2930 entries, 0 to 2929\n",
      "Columns: 279 entries, Order to Sale Condition_Partial\n",
      "dtypes: bool(240), float64(11), int64(28)\n",
      "memory usage: 1.5 MB\n"
     ]
    }
   ],
   "source": [
    "df.info()"
   ]
  },
  {
   "cell_type": "code",
   "execution_count": 100,
   "id": "b5edcad2-26d2-4706-bd94-80343e398fa9",
   "metadata": {},
   "outputs": [
    {
     "data": {
      "image/png": "[encoded data removed]",
      "text/plain": [
       "<Figure size 640x480 with 1 Axes>"
      ]
     },
     "metadata": {},
     "output_type": "display_data"
    }
   ],
   "source": [
    "import seaborn as sns\n",
    "import matplotlib.pyplot as plt\n",
    "\n",
    "sns.boxplot(x=df['Gr Liv Area'])\n",
    "plt.title(\"Gr Liv Area Aykırı Değer Analizi\")\n",
    "plt.show()\n"
   ]
  },
  {
   "cell_type": "code",
   "execution_count": 101,
   "id": "52a7dcdc-2e7c-4918-b005-924011ddc7fb",
   "metadata": {},
   "outputs": [],
   "source": [
    "Q1 = df['Gr Liv Area'].quantile(0.25)\n",
    "Q3 = df['Gr Liv Area'].quantile(0.75)\n",
    "IQR = Q3 - Q1\n",
    "\n",
    "lower_bound = Q1 - 1.5 * IQR\n",
    "upper_bound = Q3 + 1.5 * IQR\n",
    "\n",
    "df = df[(df['Gr Liv Area'] >= lower_bound) & (df['Gr Liv Area'] <= upper_bound)]\n"
   ]
  },
  {
   "cell_type": "code",
   "execution_count": 109,
   "id": "f839cbfd-dad3-444b-9c9d-31228d2bdd12",
   "metadata": {},
   "outputs": [],
   "source": [
    "def remove_outliers_iqr(data, columns, factor=1.5):\n",
    "    df_cleaned = data.copy()\n",
    "    for col in numerical_cols:\n",
    "        Q1 = df_cleaned[col].quantile(0.25)\n",
    "        Q3 = df_cleaned[col].quantile(0.75)\n",
    "        IQR = Q3 - Q1\n",
    "        lower = Q1 - factor * IQR\n",
    "        upper = Q3 + factor * IQR\n",
    "        before = df_cleaned.shape[0]\n",
    "\n",
    "        df_cleaned = df_cleaned[(df_cleaned[col] >= lower) & (df_cleaned[col] <= upper)]\n",
    "\n",
    "        after = df_cleaned.shape[0]\n",
    "        print(f\"{col}: {before - after} satır silindi.\")\n",
    "\n",
    "    return df_cleaned\n"
   ]
  },
  {
   "cell_type": "code",
   "execution_count": 110,
   "id": "ee6d2e99-639a-455a-9b9e-9da6d65fa85b",
   "metadata": {},
   "outputs": [
    {
     "name": "stdout",
     "output_type": "stream",
     "text": [
      "Order: 0 satır silindi.\n",
      "PID: 0 satır silindi.\n",
      "MS SubClass: 205 satır silindi.\n",
      "Lot Frontage: 120 satır silindi.\n",
      "Lot Area: 105 satır silindi.\n",
      "Overall Qual: 3 satır silindi.\n",
      "Overall Cond: 213 satır silindi.\n",
      "Year Built: 4 satır silindi.\n",
      "Year Remod/Add: 0 satır silindi.\n",
      "Mas Vnr Area: 125 satır silindi.\n",
      "BsmtFin SF 1: 2 satır silindi.\n",
      "BsmtFin SF 2: 249 satır silindi.\n",
      "Bsmt Unf SF: 19 satır silindi.\n",
      "Total Bsmt SF: 68 satır silindi.\n",
      "1st Flr SF: 6 satır silindi.\n",
      "2nd Flr SF: 0 satır silindi.\n",
      "Low Qual Fin SF: 21 satır silindi.\n",
      "Gr Liv Area: 14 satır silindi.\n",
      "Bsmt Full Bath: 2 satır silindi.\n",
      "Bsmt Half Bath: 79 satır silindi.\n",
      "Full Bath: 0 satır silindi.\n",
      "Half Bath: 0 satır silindi.\n",
      "Bedroom AbvGr: 22 satır silindi.\n",
      "Kitchen AbvGr: 34 satır silindi.\n",
      "TotRms AbvGrd: 4 satır silindi.\n",
      "Fireplaces: 3 satır silindi.\n",
      "Garage Yr Blt: 3 satır silindi.\n",
      "Garage Cars: 2 satır silindi.\n",
      "Garage Area: 15 satır silindi.\n",
      "Wood Deck SF: 20 satır silindi.\n",
      "Open Porch SF: 63 satır silindi.\n",
      "Enclosed Porch: 213 satır silindi.\n",
      "3Ssn Porch: 15 satır silindi.\n",
      "Screen Porch: 104 satır silindi.\n",
      "Pool Area: 1 satır silindi.\n",
      "Misc Val: 28 satır silindi.\n",
      "Mo Sold: 0 satır silindi.\n",
      "Yr Sold: 0 satır silindi.\n",
      "SalePrice: 20 satır silindi.\n"
     ]
    }
   ],
   "source": [
    "df = remove_outliers_iqr(df, numeric_cols)"
   ]
  },
  {
   "cell_type": "code",
   "execution_count": 114,
   "id": "6ef3ecaf-c01f-4294-8a98-6726c4797008",
   "metadata": {},
   "outputs": [
    {
     "data": {
      "text/html": [
       "<div>\n",
       "<style scoped>\n",
       "    .dataframe tbody tr th:only-of-type {\n",
       "        vertical-align: middle;\n",
       "    }\n",
       "\n",
       "    .dataframe tbody tr th {\n",
       "        vertical-align: top;\n",
       "    }\n",
       "\n",
       "    .dataframe thead th {\n",
       "        text-align: right;\n",
       "    }\n",
       "</style>\n",
       "<table border=\"1\" class=\"dataframe\">\n",
       "  <thead>\n",
       "    <tr style=\"text-align: right;\">\n",
       "      <th></th>\n",
       "      <th>Order</th>\n",
       "      <th>PID</th>\n",
       "      <th>MS SubClass</th>\n",
       "      <th>Lot Frontage</th>\n",
       "      <th>Lot Area</th>\n",
       "      <th>Overall Qual</th>\n",
       "      <th>Overall Cond</th>\n",
       "      <th>Year Built</th>\n",
       "      <th>Year Remod/Add</th>\n",
       "      <th>Mas Vnr Area</th>\n",
       "      <th>...</th>\n",
       "      <th>Wood Deck SF</th>\n",
       "      <th>Open Porch SF</th>\n",
       "      <th>Enclosed Porch</th>\n",
       "      <th>3Ssn Porch</th>\n",
       "      <th>Screen Porch</th>\n",
       "      <th>Pool Area</th>\n",
       "      <th>Misc Val</th>\n",
       "      <th>Mo Sold</th>\n",
       "      <th>Yr Sold</th>\n",
       "      <th>SalePrice</th>\n",
       "    </tr>\n",
       "  </thead>\n",
       "  <tbody>\n",
       "    <tr>\n",
       "      <th>count</th>\n",
       "      <td>1073.000000</td>\n",
       "      <td>1.073000e+03</td>\n",
       "      <td>1073.000000</td>\n",
       "      <td>1073.000000</td>\n",
       "      <td>1073.000000</td>\n",
       "      <td>1073.000000</td>\n",
       "      <td>1073.000000</td>\n",
       "      <td>1073.000000</td>\n",
       "      <td>1073.000000</td>\n",
       "      <td>1073.000000</td>\n",
       "      <td>...</td>\n",
       "      <td>1073.000000</td>\n",
       "      <td>1073.000000</td>\n",
       "      <td>1073.0</td>\n",
       "      <td>1073.0</td>\n",
       "      <td>1073.0</td>\n",
       "      <td>1073.0</td>\n",
       "      <td>1073.0</td>\n",
       "      <td>1073.000000</td>\n",
       "      <td>1073.000000</td>\n",
       "      <td>1073.000000</td>\n",
       "    </tr>\n",
       "    <tr>\n",
       "      <th>mean</th>\n",
       "      <td>1459.600186</td>\n",
       "      <td>6.956542e+08</td>\n",
       "      <td>49.799627</td>\n",
       "      <td>67.705499</td>\n",
       "      <td>9113.591799</td>\n",
       "      <td>6.260951</td>\n",
       "      <td>5.369991</td>\n",
       "      <td>1983.502330</td>\n",
       "      <td>1989.343896</td>\n",
       "      <td>70.491760</td>\n",
       "      <td>...</td>\n",
       "      <td>91.707363</td>\n",
       "      <td>42.465051</td>\n",
       "      <td>0.0</td>\n",
       "      <td>0.0</td>\n",
       "      <td>0.0</td>\n",
       "      <td>0.0</td>\n",
       "      <td>0.0</td>\n",
       "      <td>6.087605</td>\n",
       "      <td>2007.770736</td>\n",
       "      <td>178956.522833</td>\n",
       "    </tr>\n",
       "    <tr>\n",
       "      <th>std</th>\n",
       "      <td>835.017533</td>\n",
       "      <td>1.876642e+08</td>\n",
       "      <td>31.633570</td>\n",
       "      <td>13.073448</td>\n",
       "      <td>2599.093121</td>\n",
       "      <td>1.249229</td>\n",
       "      <td>0.697887</td>\n",
       "      <td>25.394908</td>\n",
       "      <td>19.721383</td>\n",
       "      <td>100.107348</td>\n",
       "      <td>...</td>\n",
       "      <td>98.569555</td>\n",
       "      <td>44.564444</td>\n",
       "      <td>0.0</td>\n",
       "      <td>0.0</td>\n",
       "      <td>0.0</td>\n",
       "      <td>0.0</td>\n",
       "      <td>0.0</td>\n",
       "      <td>2.647472</td>\n",
       "      <td>1.297098</td>\n",
       "      <td>53392.017013</td>\n",
       "    </tr>\n",
       "    <tr>\n",
       "      <th>min</th>\n",
       "      <td>5.000000</td>\n",
       "      <td>5.263021e+08</td>\n",
       "      <td>20.000000</td>\n",
       "      <td>32.000000</td>\n",
       "      <td>2887.000000</td>\n",
       "      <td>2.000000</td>\n",
       "      <td>4.000000</td>\n",
       "      <td>1890.000000</td>\n",
       "      <td>1950.000000</td>\n",
       "      <td>0.000000</td>\n",
       "      <td>...</td>\n",
       "      <td>0.000000</td>\n",
       "      <td>0.000000</td>\n",
       "      <td>0.0</td>\n",
       "      <td>0.0</td>\n",
       "      <td>0.0</td>\n",
       "      <td>0.0</td>\n",
       "      <td>0.0</td>\n",
       "      <td>1.000000</td>\n",
       "      <td>2006.000000</td>\n",
       "      <td>37900.000000</td>\n",
       "    </tr>\n",
       "    <tr>\n",
       "      <th>25%</th>\n",
       "      <td>741.000000</td>\n",
       "      <td>5.282921e+08</td>\n",
       "      <td>20.000000</td>\n",
       "      <td>60.000000</td>\n",
       "      <td>7599.000000</td>\n",
       "      <td>5.000000</td>\n",
       "      <td>5.000000</td>\n",
       "      <td>1965.000000</td>\n",
       "      <td>1973.000000</td>\n",
       "      <td>0.000000</td>\n",
       "      <td>...</td>\n",
       "      <td>0.000000</td>\n",
       "      <td>0.000000</td>\n",
       "      <td>0.0</td>\n",
       "      <td>0.0</td>\n",
       "      <td>0.0</td>\n",
       "      <td>0.0</td>\n",
       "      <td>0.0</td>\n",
       "      <td>4.000000</td>\n",
       "      <td>2007.000000</td>\n",
       "      <td>138000.000000</td>\n",
       "    </tr>\n",
       "    <tr>\n",
       "      <th>50%</th>\n",
       "      <td>1466.000000</td>\n",
       "      <td>5.351791e+08</td>\n",
       "      <td>50.000000</td>\n",
       "      <td>68.000000</td>\n",
       "      <td>9042.000000</td>\n",
       "      <td>6.000000</td>\n",
       "      <td>5.000000</td>\n",
       "      <td>1996.000000</td>\n",
       "      <td>1999.000000</td>\n",
       "      <td>0.000000</td>\n",
       "      <td>...</td>\n",
       "      <td>100.000000</td>\n",
       "      <td>35.000000</td>\n",
       "      <td>0.0</td>\n",
       "      <td>0.0</td>\n",
       "      <td>0.0</td>\n",
       "      <td>0.0</td>\n",
       "      <td>0.0</td>\n",
       "      <td>6.000000</td>\n",
       "      <td>2008.000000</td>\n",
       "      <td>175900.000000</td>\n",
       "    </tr>\n",
       "    <tr>\n",
       "      <th>75%</th>\n",
       "      <td>2167.000000</td>\n",
       "      <td>9.071870e+08</td>\n",
       "      <td>60.000000</td>\n",
       "      <td>75.000000</td>\n",
       "      <td>10721.000000</td>\n",
       "      <td>7.000000</td>\n",
       "      <td>6.000000</td>\n",
       "      <td>2004.000000</td>\n",
       "      <td>2005.000000</td>\n",
       "      <td>136.000000</td>\n",
       "      <td>...</td>\n",
       "      <td>168.000000</td>\n",
       "      <td>66.000000</td>\n",
       "      <td>0.0</td>\n",
       "      <td>0.0</td>\n",
       "      <td>0.0</td>\n",
       "      <td>0.0</td>\n",
       "      <td>0.0</td>\n",
       "      <td>8.000000</td>\n",
       "      <td>2009.000000</td>\n",
       "      <td>213000.000000</td>\n",
       "    </tr>\n",
       "    <tr>\n",
       "      <th>max</th>\n",
       "      <td>2930.000000</td>\n",
       "      <td>9.241510e+08</td>\n",
       "      <td>120.000000</td>\n",
       "      <td>107.000000</td>\n",
       "      <td>16647.000000</td>\n",
       "      <td>10.000000</td>\n",
       "      <td>7.000000</td>\n",
       "      <td>2010.000000</td>\n",
       "      <td>2010.000000</td>\n",
       "      <td>394.000000</td>\n",
       "      <td>...</td>\n",
       "      <td>406.000000</td>\n",
       "      <td>175.000000</td>\n",
       "      <td>0.0</td>\n",
       "      <td>0.0</td>\n",
       "      <td>0.0</td>\n",
       "      <td>0.0</td>\n",
       "      <td>0.0</td>\n",
       "      <td>12.000000</td>\n",
       "      <td>2010.000000</td>\n",
       "      <td>328900.000000</td>\n",
       "    </tr>\n",
       "  </tbody>\n",
       "</table>\n",
       "<p>8 rows × 39 columns</p>\n",
       "</div>"
      ],
      "text/plain": [
       "             Order           PID  MS SubClass  Lot Frontage      Lot Area  \\\n",
       "count  1073.000000  1.073000e+03  1073.000000   1073.000000   1073.000000   \n",
       "mean   1459.600186  6.956542e+08    49.799627     67.705499   9113.591799   \n",
       "std     835.017533  1.876642e+08    31.633570     13.073448   2599.093121   \n",
       "min       5.000000  5.263021e+08    20.000000     32.000000   2887.000000   \n",
       "25%     741.000000  5.282921e+08    20.000000     60.000000   7599.000000   \n",
       "50%    1466.000000  5.351791e+08    50.000000     68.000000   9042.000000   \n",
       "75%    2167.000000  9.071870e+08    60.000000     75.000000  10721.000000   \n",
       "max    2930.000000  9.241510e+08   120.000000    107.000000  16647.000000   \n",
       "\n",
       "       Overall Qual  Overall Cond   Year Built  Year Remod/Add  Mas Vnr Area  \\\n",
       "count   1073.000000   1073.000000  1073.000000     1073.000000   1073.000000   \n",
       "mean       6.260951      5.369991  1983.502330     1989.343896     70.491760   \n",
       "std        1.249229      0.697887    25.394908       19.721383    100.107348   \n",
       "min        2.000000      4.000000  1890.000000     1950.000000      0.000000   \n",
       "25%        5.000000      5.000000  1965.000000     1973.000000      0.000000   \n",
       "50%        6.000000      5.000000  1996.000000     1999.000000      0.000000   \n",
       "75%        7.000000      6.000000  2004.000000     2005.000000    136.000000   \n",
       "max       10.000000      7.000000  2010.000000     2010.000000    394.000000   \n",
       "\n",
       "       ...  Wood Deck SF  Open Porch SF  Enclosed Porch  3Ssn Porch  \\\n",
       "count  ...   1073.000000    1073.000000          1073.0      1073.0   \n",
       "mean   ...     91.707363      42.465051             0.0         0.0   \n",
       "std    ...     98.569555      44.564444             0.0         0.0   \n",
       "min    ...      0.000000       0.000000             0.0         0.0   \n",
       "25%    ...      0.000000       0.000000             0.0         0.0   \n",
       "50%    ...    100.000000      35.000000             0.0         0.0   \n",
       "75%    ...    168.000000      66.000000             0.0         0.0   \n",
       "max    ...    406.000000     175.000000             0.0         0.0   \n",
       "\n",
       "       Screen Porch  Pool Area  Misc Val      Mo Sold      Yr Sold  \\\n",
       "count        1073.0     1073.0    1073.0  1073.000000  1073.000000   \n",
       "mean            0.0        0.0       0.0     6.087605  2007.770736   \n",
       "std             0.0        0.0       0.0     2.647472     1.297098   \n",
       "min             0.0        0.0       0.0     1.000000  2006.000000   \n",
       "25%             0.0        0.0       0.0     4.000000  2007.000000   \n",
       "50%             0.0        0.0       0.0     6.000000  2008.000000   \n",
       "75%             0.0        0.0       0.0     8.000000  2009.000000   \n",
       "max             0.0        0.0       0.0    12.000000  2010.000000   \n",
       "\n",
       "           SalePrice  \n",
       "count    1073.000000  \n",
       "mean   178956.522833  \n",
       "std     53392.017013  \n",
       "min     37900.000000  \n",
       "25%    138000.000000  \n",
       "50%    175900.000000  \n",
       "75%    213000.000000  \n",
       "max    328900.000000  \n",
       "\n",
       "[8 rows x 39 columns]"
      ]
     },
     "execution_count": 114,
     "metadata": {},
     "output_type": "execute_result"
    }
   ],
   "source": [
    "df.describe()"
   ]
  },
  {
   "cell_type": "code",
   "execution_count": 116,
   "id": "9e06b89f-3769-4fa7-990d-4e694ef62d98",
   "metadata": {},
   "outputs": [],
   "source": [
    "X = df.drop(\"SalePrice\", axis=1)\n",
    "y=df['SalePrice']"
   ]
  },
  {
   "cell_type": "code",
   "execution_count": 117,
   "id": "88a09757-3a36-4361-8a29-15635532a6ba",
   "metadata": {},
   "outputs": [],
   "source": [
    "from sklearn.model_selection import train_test_split\n",
    "X_train,X_test,y_train,y_test=train_test_split(X,y,test_size=0.2,random_state=42)\n"
   ]
  },
  {
   "cell_type": "code",
   "execution_count": 118,
   "id": "db293a49-19dc-493d-85b0-7b067aed76db",
   "metadata": {},
   "outputs": [
    {
     "name": "stdout",
     "output_type": "stream",
     "text": [
      "(858, 278) (215, 278)\n"
     ]
    }
   ],
   "source": [
    "print(X_train.shape, X_test.shape)"
   ]
  },
  {
   "cell_type": "code",
   "execution_count": 119,
   "id": "d7c2808a-f949-41cc-a9f3-c4a848057ef1",
   "metadata": {},
   "outputs": [],
   "source": [
    "from sklearn.linear_model import LinearRegression\n",
    "\n",
    "model = LinearRegression()\n",
    "model.fit(X_train, y_train)\n",
    "\n",
    "y_pred = model.predict(X_test)\n"
   ]
  },
  {
   "cell_type": "code",
   "execution_count": 121,
   "id": "20bae1f9-e6a9-4e52-a854-32edda49bfd4",
   "metadata": {},
   "outputs": [
    {
     "name": "stdout",
     "output_type": "stream",
     "text": [
      "Negatif var mı? 0 0\n",
      "RMSLE: 0.1116\n"
     ]
    }
   ],
   "source": [
    "from sklearn.metrics import mean_squared_log_error\n",
    "import numpy as np\n",
    "\n",
    "print(\"Negatif var mı?\", (y_test < 0).sum(), (y_pred < 0).sum())\n",
    "\n",
    "rmsle = np.sqrt(mean_squared_log_error(y_test, y_pred))\n",
    "print(f\"RMSLE: {rmsle:.4f}\")\n"
   ]
  },
  {
   "cell_type": "code",
   "execution_count": 122,
   "id": "a6ff9d88-bc4b-46a1-b072-9741dbc0e9aa",
   "metadata": {},
   "outputs": [
    {
     "name": "stdout",
     "output_type": "stream",
     "text": [
      "Train: (858, 278), Validation: (107, 278), Test: (108, 278)\n"
     ]
    }
   ],
   "source": [
    "X_train, X_temp, y_train, y_temp = train_test_split(\n",
    "    X, y, test_size=0.2, random_state=42\n",
    ")\n",
    "# %10 Validation, %10 Test\n",
    "X_val, X_test, y_val, y_test = train_test_split(\n",
    "    X_temp, y_temp, test_size=0.5, random_state=42\n",
    ")\n",
    "print(f\"Train: {X_train.shape}, Validation: {X_val.shape}, Test: {X_test.shape}\")\n"
   ]
  },
  {
   "cell_type": "code",
   "execution_count": 128,
   "id": "996fdb1c-8965-452e-be20-b71339671e85",
   "metadata": {},
   "outputs": [
    {
     "name": "stdout",
     "output_type": "stream",
     "text": [
      "Negatif var mı? 0 0\n",
      "Validation RMSLE: 0.1014\n"
     ]
    }
   ],
   "source": [
    "from sklearn.ensemble import RandomForestRegressor\n",
    "model=RandomForestRegressor()\n",
    "model.fit(X_train,y_train)\n",
    "y_val_pred=model.predict(X_val)\n",
    "\n",
    "print(\"Negatif var mı?\", (y_val < 0).sum(), (y_val_pred < 0).sum())\n",
    "rmsle_val = np.sqrt(mean_squared_log_error(y_val, y_val_pred))\n",
    "print(f\"Validation RMSLE: {rmsle_val:.4f}\")"
   ]
  },
  {
   "cell_type": "code",
   "execution_count": 129,
   "id": "08e9316c-adde-4ef0-8a52-3e3f92b9b6c4",
   "metadata": {},
   "outputs": [
    {
     "name": "stdout",
     "output_type": "stream",
     "text": [
      "Test RMSLE: 0.1089\n"
     ]
    }
   ],
   "source": [
    "y_test_pred = model.predict(X_test)\n",
    "\n",
    "# RMSLE (Test için)\n",
    "rmsle_test = np.sqrt(mean_squared_log_error(y_test, y_test_pred))\n",
    "print(f\"Test RMSLE: {rmsle_test:.4f}\")"
   ]
  },
  {
   "cell_type": "code",
   "execution_count": null,
   "id": "2387b837-3667-4b17-a4cf-0fa9b6b82317",
   "metadata": {},
   "outputs": [],
   "source": []
  }
 ],
 "metadata": {
  "kernelspec": {
   "display_name": "Python [conda env:base] *",
   "language": "python",
   "name": "conda-base-py"
  },
  "language_info": {
   "codemirror_mode": {
    "name": "ipython",
    "version": 3
   },
   "file_extension": ".py",
   "mimetype": "text/x-python",
   "name": "python",
   "nbconvert_exporter": "python",
   "pygments_lexer": "ipython3",
   "version": "3.12.7"
  }
 },
 "nbformat": 4,
 "nbformat_minor": 5
}
